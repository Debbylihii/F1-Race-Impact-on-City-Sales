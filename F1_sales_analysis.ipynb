{
 "cells": [
  {
   "cell_type": "code",
   "execution_count": 3,
   "id": "3995fdf2-3a3c-4922-8e96-9f7f982119c6",
   "metadata": {},
   "outputs": [
    {
     "ename": "SyntaxError",
     "evalue": "invalid character '「' (U+300C) (867600647.py, line 3)",
     "output_type": "error",
     "traceback": [
      "\u001b[0;36m  Cell \u001b[0;32mIn[3], line 3\u001b[0;36m\u001b[0m\n\u001b[0;31m    本 Notebook 旨在完整呈現「F1 賽事對城市旅遊銷售額影響分析」專案的分析流程。我們將從資料載入、清理、整合開始，逐步進行核心分析，最終建立一個預測模型來量化各因素對銷售額的影響，並提出商業建議。\u001b[0m\n\u001b[0m                     ^\u001b[0m\n\u001b[0;31mSyntaxError\u001b[0m\u001b[0;31m:\u001b[0m invalid character '「' (U+300C)\n"
     ]
    }
   ],
   "source": [
    "# F1 賽事對城市銷售額的影響分析：延伸專案\n",
    "\n",
    "本 Notebook 旨在完整呈現「F1 賽事對城市旅遊銷售額影響分析」專案的分析流程。我們將從資料載入、清理、整合開始，逐步進行核心分析，最終建立一個預測模型來量化各因素對銷售額的影響，並提出商業建議。\n",
    "\n",
    "---\n",
    "\n",
    "### 分析步驟：\n",
    "1.  **資料載入**：載入所有相關的 CSV 檔案。\n",
    "2.  **資料清理與整合**：將多個數據集合併成一個用於分析的 DataFrame。\n",
    "3.  **核心分析**：進行描述性統計和 t-檢定，比較賽事週與非賽事週的差異。\n",
    "4.  **模型建立**：使用多元線性迴歸模型來預測銷售額。\n",
    "\n",
    "# 載入所需的函式庫\n",
    "import pandas as pd\n",
    "import numpy as np\n",
    "from scipy import stats\n",
    "import statsmodels.api as sm\n",
    "import re\n",
    "\n",
    "print(\"函式庫載入成功！\")"
   ]
  },
  {
   "cell_type": "code",
   "execution_count": 4,
   "id": "b11f2d93-e5e6-4c57-bdd7-79a440f5ec98",
   "metadata": {},
   "outputs": [
    {
     "ename": "SyntaxError",
     "evalue": "invalid character '，' (U+FF0C) (198597331.py, line 3)",
     "output_type": "error",
     "traceback": [
      "\u001b[0;36m  Cell \u001b[0;32mIn[4], line 3\u001b[0;36m\u001b[0m\n\u001b[0;31m    我們將載入所有原始 CSV 檔案，並檢查它們的結構。\u001b[0m\n\u001b[0m                    ^\u001b[0m\n\u001b[0;31mSyntaxError\u001b[0m\u001b[0;31m:\u001b[0m invalid character '，' (U+FF0C)\n"
     ]
    }
   ],
   "source": [
    "### 1. 資料載入與初步檢視\n",
    "\n",
    "我們將載入所有原始 CSV 檔案，並檢查它們的結構。\n",
    "* **注意**：`../` 表示回到上層目錄，這是為了正確讀取 `data/raw` 資料夾中的檔案。"
   ]
  },
  {
   "cell_type": "code",
   "execution_count": 5,
   "id": "4d9f689a-864d-45b6-8a28-920a0edbbaea",
   "metadata": {},
   "outputs": [
    {
     "ename": "NameError",
     "evalue": "name 'pd' is not defined",
     "output_type": "error",
     "traceback": [
      "\u001b[0;31m---------------------------------------------------------------------------\u001b[0m",
      "\u001b[0;31mNameError\u001b[0m                                 Traceback (most recent call last)",
      "Cell \u001b[0;32mIn[5], line 3\u001b[0m\n\u001b[1;32m      1\u001b[0m \u001b[38;5;66;03m# 載入所有 CSV 檔案\u001b[39;00m\n\u001b[1;32m      2\u001b[0m \u001b[38;5;28;01mtry\u001b[39;00m:\n\u001b[0;32m----> 3\u001b[0m     df_sales \u001b[38;5;241m=\u001b[39m pd\u001b[38;5;241m.\u001b[39mread_csv(\u001b[38;5;124m'\u001b[39m\u001b[38;5;124m../data/raw/f1_weekly_sales_by_city拷貝.csv\u001b[39m\u001b[38;5;124m'\u001b[39m)\n\u001b[1;32m      4\u001b[0m     df_trends \u001b[38;5;241m=\u001b[39m pd\u001b[38;5;241m.\u001b[39mread_csv(\u001b[38;5;124m'\u001b[39m\u001b[38;5;124m../data/raw/google_trends_long_format.csv\u001b[39m\u001b[38;5;124m'\u001b[39m)\n\u001b[1;32m      5\u001b[0m     df_products \u001b[38;5;241m=\u001b[39m pd\u001b[38;5;241m.\u001b[39mread_csv(\u001b[38;5;124m'\u001b[39m\u001b[38;5;124m../data/raw/f1_event_products_template拷貝.csv\u001b[39m\u001b[38;5;124m'\u001b[39m)\n",
      "\u001b[0;31mNameError\u001b[0m: name 'pd' is not defined"
     ]
    }
   ],
   "source": [
    "# 載入所有 CSV 檔案\n",
    "try:\n",
    "    df_sales = pd.read_csv('../data/raw/f1_weekly_sales_by_city拷貝.csv')\n",
    "    df_trends = pd.read_csv('../data/raw/google_trends_long_format.csv')\n",
    "    df_products = pd.read_csv('../data/raw/f1_event_products_template拷貝.csv')\n",
    "    df_dts = pd.read_csv('../data/raw/f1_dts_by_country_filled.csv')\n",
    "    print(\"所有檔案載入成功！\")\n",
    "except FileNotFoundError as e:\n",
    "    print(f\"錯誤：找不到檔案，請確認檔案路徑是否正確。錯誤資訊：{e}\")\n",
    "    exit()\n",
    "\n",
    "# 顯示 df_sales 的前五行，方便檢查\n",
    "print(\"\\n--- 銷售數據 (df_sales) 前五行 ---\")\n",
    "print(df_sales.head())"
   ]
  },
  {
   "cell_type": "code",
   "execution_count": 6,
   "id": "ab667b6b-536f-4fe2-99ae-cfaab05a28a5",
   "metadata": {},
   "outputs": [
    {
     "ename": "SyntaxError",
     "evalue": "invalid character '，' (U+FF0C) (220641844.py, line 3)",
     "output_type": "error",
     "traceback": [
      "\u001b[0;36m  Cell \u001b[0;32mIn[6], line 3\u001b[0;36m\u001b[0m\n\u001b[0;31m    為了將所有數據整合在一起，我們需要進行以下步驟：\u001b[0m\n\u001b[0m                ^\u001b[0m\n\u001b[0;31mSyntaxError\u001b[0m\u001b[0;31m:\u001b[0m invalid character '，' (U+FF0C)\n"
     ]
    }
   ],
   "source": [
    "### 2. 資料清理與整合\n",
    "\n",
    "為了將所有數據整合在一起，我們需要進行以下步驟：\n",
    "- 將日期欄位轉換為統一的格式。\n",
    "- 清理 `f1_event_products_template` 中的城市名稱。\n",
    "- 根據日期和城市進行數據合併。"
   ]
  },
  {
   "cell_type": "code",
   "execution_count": 7,
   "id": "362148a6-88dd-4d22-9add-7dd5f89bea64",
   "metadata": {},
   "outputs": [
    {
     "ename": "NameError",
     "evalue": "name 'pd' is not defined",
     "output_type": "error",
     "traceback": [
      "\u001b[0;31m---------------------------------------------------------------------------\u001b[0m",
      "\u001b[0;31mNameError\u001b[0m                                 Traceback (most recent call last)",
      "Cell \u001b[0;32mIn[7], line 6\u001b[0m\n\u001b[1;32m      1\u001b[0m \u001b[38;5;66;03m# -----------------------------------------------------------------------------\u001b[39;00m\n\u001b[1;32m      2\u001b[0m \u001b[38;5;66;03m# 資料清理與前置處理\u001b[39;00m\n\u001b[1;32m      3\u001b[0m \u001b[38;5;66;03m# -----------------------------------------------------------------------------\u001b[39;00m\n\u001b[1;32m      4\u001b[0m \n\u001b[1;32m      5\u001b[0m \u001b[38;5;66;03m# 將日期欄位轉換為日期時間格式\u001b[39;00m\n\u001b[0;32m----> 6\u001b[0m df_sales[\u001b[38;5;124m'\u001b[39m\u001b[38;5;124m週\u001b[39m\u001b[38;5;124m'\u001b[39m] \u001b[38;5;241m=\u001b[39m pd\u001b[38;5;241m.\u001b[39mto_datetime(df_sales[\u001b[38;5;124m'\u001b[39m\u001b[38;5;124m週\u001b[39m\u001b[38;5;124m'\u001b[39m])\n\u001b[1;32m      7\u001b[0m df_trends[\u001b[38;5;124m'\u001b[39m\u001b[38;5;124mdate\u001b[39m\u001b[38;5;124m'\u001b[39m] \u001b[38;5;241m=\u001b[39m pd\u001b[38;5;241m.\u001b[39mto_datetime(df_trends[\u001b[38;5;124m'\u001b[39m\u001b[38;5;124mdate\u001b[39m\u001b[38;5;124m'\u001b[39m])\n\u001b[1;32m      8\u001b[0m df_dts[\u001b[38;5;124m'\u001b[39m\u001b[38;5;124mcountry\u001b[39m\u001b[38;5;124m'\u001b[39m] \u001b[38;5;241m=\u001b[39m df_dts[\u001b[38;5;124m'\u001b[39m\u001b[38;5;124mcountry\u001b[39m\u001b[38;5;124m'\u001b[39m]\u001b[38;5;241m.\u001b[39mstr\u001b[38;5;241m.\u001b[39mstrip()\n",
      "\u001b[0;31mNameError\u001b[0m: name 'pd' is not defined"
     ]
    }
   ],
   "source": [
    "# -----------------------------------------------------------------------------\n",
    "# 資料清理與前置處理\n",
    "# -----------------------------------------------------------------------------\n",
    "\n",
    "# 將日期欄位轉換為日期時間格式\n",
    "df_sales['週'] = pd.to_datetime(df_sales['週'])\n",
    "df_trends['date'] = pd.to_datetime(df_trends['date'])\n",
    "df_dts['country'] = df_dts['country'].str.strip()\n",
    "\n",
    "# 處理 df_products 的 race_location 欄位，提取城市/國家名稱\n",
    "def clean_location(location):\n",
    "    match = re.match(r'(.+?)\\s?\\(', location)\n",
    "    if match:\n",
    "        return match.group(1).strip()\n",
    "    return location\n",
    "\n",
    "df_products['race_location_cleaned'] = df_products['race_location'].apply(clean_location)\n",
    "\n",
    "# -----------------------------------------------------------------------------\n",
    "# 資料合併\n",
    "# -----------------------------------------------------------------------------\n",
    "\n",
    "# 1) 彙總產品和評論數據\n",
    "df_products_agg = df_products.groupby('race_location_cleaned').agg(\n",
    "    產品數量=('product_count', 'sum'),\n",
    "    評論數=('review_count', 'sum')\n",
    ").reset_index()\n",
    "\n",
    "# 2) 合併銷售額與 Google 趨勢數據\n",
    "df_trends_f1 = df_trends[df_trends['keyword'] == 'F1'].copy()\n",
    "df_trends_f1.rename(columns={'date': '週', 'trend_score': 'F1_趨勢分數'}, inplace=True)\n",
    "df_merged = pd.merge(df_sales, df_trends_f1[['週', 'F1_趨勢分數']], on='週', how='left')\n",
    "\n",
    "# 3) 合併產品數據\n",
    "city_name_mapping = {\n",
    "    'Baku': 'Baku', 'Singapore': 'Singapore', 'Suzuka': 'Japan',\n",
    "    'Shanghai': 'China', 'Las Vegas': 'America', 'Miami': 'America'\n",
    "}\n",
    "df_merged['city_for_merge'] = df_merged['城市'].map(city_name_mapping).fillna(df_merged['城市'])\n",
    "df_merged = pd.merge(df_merged, df_products_agg, left_on='city_for_merge', right_on='race_location_cleaned', how='left')\n",
    "df_merged.drop(columns=['city_for_merge', 'race_location_cleaned'], inplace=True)\n",
    "\n",
    "# 4) 填補合併後可能產生的 NaN 值\n",
    "df_merged['產品數量'].fillna(0, inplace=True)\n",
    "df_merged['評論數'].fillna(0, inplace=True)\n",
    "df_merged['F1_趨勢分數'].fillna(df_merged['F1_趨勢分數'].mean(), inplace=True)\n",
    "\n",
    "print(\"資料合併完成！合併後數據的前五行：\")\n",
    "print(df_merged.head())"
   ]
  },
  {
   "cell_type": "code",
   "execution_count": 8,
   "id": "c8482888-09cb-400b-8dd2-8cd6f6313218",
   "metadata": {},
   "outputs": [
    {
     "ename": "SyntaxError",
     "evalue": "invalid character '，' (U+FF0C) (1810935760.py, line 3)",
     "output_type": "error",
     "traceback": [
      "\u001b[0;36m  Cell \u001b[0;32mIn[8], line 3\u001b[0;36m\u001b[0m\n\u001b[0;31m    我們將賽事週的銷售額與非賽事週的銷售額進行比較，以驗證賽事對銷售的影響是否顯著。\u001b[0m\n\u001b[0m                           ^\u001b[0m\n\u001b[0;31mSyntaxError\u001b[0m\u001b[0;31m:\u001b[0m invalid character '，' (U+FF0C)\n"
     ]
    }
   ],
   "source": [
    "### 3. 核心分析：賽事週與非賽事週銷售額比較 (t-檢定)\n",
    "\n",
    "我們將賽事週的銷售額與非賽事週的銷售額進行比較，以驗證賽事對銷售的影響是否顯著。"
   ]
  },
  {
   "cell_type": "code",
   "execution_count": 9,
   "id": "fb895d0d-ffec-498a-956b-bb895e722c77",
   "metadata": {},
   "outputs": [
    {
     "ename": "NameError",
     "evalue": "name 'df_merged' is not defined",
     "output_type": "error",
     "traceback": [
      "\u001b[0;31m---------------------------------------------------------------------------\u001b[0m",
      "\u001b[0;31mNameError\u001b[0m                                 Traceback (most recent call last)",
      "Cell \u001b[0;32mIn[9], line 1\u001b[0m\n\u001b[0;32m----> 1\u001b[0m sales_race_week \u001b[38;5;241m=\u001b[39m df_merged[df_merged[\u001b[38;5;124m'\u001b[39m\u001b[38;5;124m是否比賽週\u001b[39m\u001b[38;5;124m'\u001b[39m] \u001b[38;5;241m==\u001b[39m \u001b[38;5;28;01mTrue\u001b[39;00m][\u001b[38;5;124m'\u001b[39m\u001b[38;5;124m銷售額\u001b[39m\u001b[38;5;124m'\u001b[39m]\n\u001b[1;32m      2\u001b[0m sales_non_race_week \u001b[38;5;241m=\u001b[39m df_merged[df_merged[\u001b[38;5;124m'\u001b[39m\u001b[38;5;124m是否比賽週\u001b[39m\u001b[38;5;124m'\u001b[39m] \u001b[38;5;241m==\u001b[39m \u001b[38;5;28;01mFalse\u001b[39;00m][\u001b[38;5;124m'\u001b[39m\u001b[38;5;124m銷售額\u001b[39m\u001b[38;5;124m'\u001b[39m]\n\u001b[1;32m      4\u001b[0m t_stat, p_value_ttest \u001b[38;5;241m=\u001b[39m stats\u001b[38;5;241m.\u001b[39mttest_ind(sales_race_week, sales_non_race_week, equal_var\u001b[38;5;241m=\u001b[39m\u001b[38;5;28;01mFalse\u001b[39;00m, nan_policy\u001b[38;5;241m=\u001b[39m\u001b[38;5;124m'\u001b[39m\u001b[38;5;124momit\u001b[39m\u001b[38;5;124m'\u001b[39m)\n",
      "\u001b[0;31mNameError\u001b[0m: name 'df_merged' is not defined"
     ]
    }
   ],
   "source": [
    "sales_race_week = df_merged[df_merged['是否比賽週'] == True]['銷售額']\n",
    "sales_non_race_week = df_merged[df_merged['是否比賽週'] == False]['銷售額']\n",
    "\n",
    "t_stat, p_value_ttest = stats.ttest_ind(sales_race_week, sales_non_race_week, equal_var=False, nan_policy='omit')\n",
    "\n",
    "print(\"賽事週與非賽事週銷售額比較 (t-檢定)\")\n",
    "print(f\"賽事週平均銷售額: ${sales_race_week.mean():.2f}\")\n",
    "print(f\"非賽事週平均銷售額: ${sales_non_race_week.mean():.2f}\")\n",
    "print(f\"p-value: {p_value_ttest:.4f}\")\n",
    "\n",
    "if p_value_ttest < 0.05:\n",
    "    print(\"結論: 賽事週的銷售額顯著高於非賽事週。\")\n",
    "else:\n",
    "    print(\"結論: 賽事週與非賽事週的銷售額沒有顯著差異。\")"
   ]
  },
  {
   "cell_type": "code",
   "execution_count": 10,
   "id": "9df71836-5d28-4063-a8c5-e0b241dbe7ab",
   "metadata": {},
   "outputs": [
    {
     "ename": "SyntaxError",
     "evalue": "invalid character '。' (U+3002) (217478634.py, line 3)",
     "output_type": "error",
     "traceback": [
      "\u001b[0;36m  Cell \u001b[0;32mIn[10], line 3\u001b[0;36m\u001b[0m\n\u001b[0;31m    建立一個多元線性迴歸模型來量化各變數對銷售額的影響。\u001b[0m\n\u001b[0m                             ^\u001b[0m\n\u001b[0;31mSyntaxError\u001b[0m\u001b[0;31m:\u001b[0m invalid character '。' (U+3002)\n"
     ]
    }
   ],
   "source": [
    "### 4. 建立多元線性迴歸模型\n",
    "\n",
    "建立一個多元線性迴歸模型來量化各變數對銷售額的影響。"
   ]
  },
  {
   "cell_type": "code",
   "execution_count": 11,
   "id": "4ae71d6c-e4b7-4888-a6c8-54aa682182e2",
   "metadata": {},
   "outputs": [
    {
     "ename": "NameError",
     "evalue": "name 'df_merged' is not defined",
     "output_type": "error",
     "traceback": [
      "\u001b[0;31m---------------------------------------------------------------------------\u001b[0m",
      "\u001b[0;31mNameError\u001b[0m                                 Traceback (most recent call last)",
      "Cell \u001b[0;32mIn[11], line 2\u001b[0m\n\u001b[1;32m      1\u001b[0m \u001b[38;5;66;03m# 定義自變數 (X) 和應變數 (y)\u001b[39;00m\n\u001b[0;32m----> 2\u001b[0m X \u001b[38;5;241m=\u001b[39m df_merged[[\u001b[38;5;124m'\u001b[39m\u001b[38;5;124m是否比賽週\u001b[39m\u001b[38;5;124m'\u001b[39m, \u001b[38;5;124m'\u001b[39m\u001b[38;5;124mF1_趨勢分數\u001b[39m\u001b[38;5;124m'\u001b[39m, \u001b[38;5;124m'\u001b[39m\u001b[38;5;124m產品數量\u001b[39m\u001b[38;5;124m'\u001b[39m, \u001b[38;5;124m'\u001b[39m\u001b[38;5;124m評論數\u001b[39m\u001b[38;5;124m'\u001b[39m]]\u001b[38;5;241m.\u001b[39mcopy()\n\u001b[1;32m      3\u001b[0m y \u001b[38;5;241m=\u001b[39m df_merged[\u001b[38;5;124m'\u001b[39m\u001b[38;5;124m銷售額\u001b[39m\u001b[38;5;124m'\u001b[39m]\n\u001b[1;32m      5\u001b[0m \u001b[38;5;66;03m# 將布林值的 '是否比賽週' 轉換為 0/1\u001b[39;00m\n",
      "\u001b[0;31mNameError\u001b[0m: name 'df_merged' is not defined"
     ]
    }
   ],
   "source": [
    "# 定義自變數 (X) 和應變數 (y)\n",
    "X = df_merged[['是否比賽週', 'F1_趨勢分數', '產品數量', '評論數']].copy()\n",
    "y = df_merged['銷售額']\n",
    "\n",
    "# 將布林值的 '是否比賽週' 轉換為 0/1\n",
    "X['是否比賽週'] = X['是否比賽週'].astype(int)\n",
    "\n",
    "# 增加截距項\n",
    "X = sm.add_constant(X)\n",
    "\n",
    "# 建立並擬合 OLS 模型\n",
    "model = sm.OLS(y, X, missing='drop').fit()\n",
    "\n",
    "# 輸出模型摘要\n",
    "print(\"多元線性迴歸模型結果\")\n",
    "print(model.summary())"
   ]
  },
  {
   "cell_type": "code",
   "execution_count": null,
   "id": "77dab5f5-94fe-4f84-afc7-05aef7ddb771",
   "metadata": {},
   "outputs": [],
   "source": []
  },
  {
   "cell_type": "code",
   "execution_count": null,
   "id": "95094d43-b58d-41fb-bac9-1eea5030e444",
   "metadata": {},
   "outputs": [],
   "source": []
  }
 ],
 "metadata": {
  "kernelspec": {
   "display_name": "Python [conda env:base] *",
   "language": "python",
   "name": "conda-base-py"
  },
  "language_info": {
   "codemirror_mode": {
    "name": "ipython",
    "version": 3
   },
   "file_extension": ".py",
   "mimetype": "text/x-python",
   "name": "python",
   "nbconvert_exporter": "python",
   "pygments_lexer": "ipython3",
   "version": "3.13.5"
  }
 },
 "nbformat": 4,
 "nbformat_minor": 5
}
