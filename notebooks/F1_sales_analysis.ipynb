{
 "cells": [
  {
   "cell_type": "code",
   "execution_count": null,
   "id": "0fbae8b8-a04c-46b1-bd73-d35b42a32972",
   "metadata": {},
   "outputs": [],
   "source": [
    "# F1 賽事對城市銷售額的影響分析：延伸專案\n",
    "\n",
    "本 Notebook 旨在完整呈現「F1 賽事對城市旅遊銷售額影響分析」專案的分析流程。我們將從資料載入、清理、整合開始，逐步進行核心分析，最終建立一個預測模型來量化各因素對銷售額的影響，並提出商業建議。\n",
    "\n",
    "---\n",
    "\n",
    "### 分析步驟：\n",
    "1.  **資料載入**：載入所有相關的 CSV 檔案。\n",
    "2.  **資料清理與整合**：將多個數據集合併成一個用於分析的 DataFrame。\n",
    "3.  **核心分析**：進行描述性統計和 t-檢定，比較賽事週與非賽事週的差異。\n",
    "4.  **模型建立**：使用多元線性迴歸模型來預測銷售額。"
   ]
  },
  {
   "cell_type": "code",
   "execution_count": 5,
   "id": "81dcb035-d52e-42eb-8544-0b2799a574f6",
   "metadata": {},
   "outputs": [
    {
     "name": "stdout",
     "output_type": "stream",
     "text": [
      "函式庫載入成功！\n"
     ]
    }
   ],
   "source": [
    "# 載入所需的函式庫\n",
    "import pandas as pd\n",
    "import numpy as np\n",
    "from scipy import stats\n",
    "import statsmodels.api as sm\n",
    "import re\n",
    "\n",
    "print(\"函式庫載入成功！\")"
   ]
  },
  {
   "cell_type": "code",
   "execution_count": null,
   "id": "807a6c0a-d16d-4d91-b104-088e68de897e",
   "metadata": {},
   "outputs": [],
   "source": [
    "### 1. 資料載入與初步檢視\n",
    "\n",
    "我們將載入所有原始 CSV 檔案，並檢查它們的結構。\n",
    "* **注意**：`../` 表示回到上層目錄，這是為了正確讀取 `data/raw` 資料夾中的檔案。"
   ]
  },
  {
   "cell_type": "code",
   "execution_count": 7,
   "id": "4d9f689a-864d-45b6-8a28-920a0edbbaea",
   "metadata": {},
   "outputs": [
    {
     "name": "stdout",
     "output_type": "stream",
     "text": [
      "所有檔案載入成功！\n",
      "\n",
      "--- 銷售數據 (df_sales) 前五行 ---\n",
      "     城市           週   銷售額  是否比賽週\n",
      "0  Baku  2024-01-29  1066  False\n",
      "1  Baku  2024-02-05  2426  False\n",
      "2  Baku  2024-02-12  2064  False\n",
      "3  Baku  2024-02-19  2188  False\n",
      "4  Baku  2024-02-26  2155  False\n"
     ]
    }
   ],
   "source": [
    "# 載入所有 CSV 檔案\n",
    "try:\n",
    "    df_sales = pd.read_csv('f1_weekly_sales_by_city.csv', encoding='utf-8')\n",
    "    df_trends = pd.read_csv('google_trends_long_format.csv', encoding='utf-8')\n",
    "\n",
    "    # 請將此行程式碼修改為以下內容\n",
    "    df_products = pd.read_csv('f1_event_products_template.csv', encoding='big5')\n",
    "\n",
    "    df_dts = pd.read_csv('f1_dts_by_country_filled.csv', encoding='utf-8')\n",
    "    print(\"所有檔案載入成功！\")\n",
    "except FileNotFoundError as e:\n",
    "    print(f\"錯誤：找不到檔案，請確認檔案路徑是否正確。錯誤資訊：{e}\")\n",
    "    exit()\n",
    "\n",
    "# 顯示 df_sales 的前五行，方便檢查\n",
    "print(\"\\n--- 銷售數據 (df_sales) 前五行 ---\")\n",
    "print(df_sales.head())"
   ]
  },
  {
   "cell_type": "code",
   "execution_count": null,
   "id": "d77b6e3d-5899-43eb-bf17-84ac88a8c6bd",
   "metadata": {},
   "outputs": [],
   "source": [
    "### 2. 資料清理與整合\n",
    "\n",
    "為了將所有數據整合在一起，我們需要進行以下步驟：\n",
    "- 將日期欄位轉換為統一的格式。\n",
    "- 清理 `f1_event_products_template` 中的城市名稱。\n",
    "- 根據日期和城市進行數據合併。"
   ]
  },
  {
   "cell_type": "code",
   "execution_count": 18,
   "id": "362148a6-88dd-4d22-9add-7dd5f89bea64",
   "metadata": {},
   "outputs": [
    {
     "name": "stdout",
     "output_type": "stream",
     "text": [
      "資料合併完成！合併後數據的前五行：\n",
      "     城市          週   銷售額  是否比賽週  F1_趨勢分數  產品數量  評論數\n",
      "0  Baku 2024-01-29  1066  False       24   0.0  0.0\n",
      "1  Baku 2024-02-05  2426  False       25   0.0  0.0\n",
      "2  Baku 2024-02-12  2064  False       36   0.0  0.0\n",
      "3  Baku 2024-02-19  2188  False       77   0.0  0.0\n",
      "4  Baku 2024-02-26  2155  False       72   0.0  0.0\n"
     ]
    }
   ],
   "source": [
    "# -----------------------------------------------------------------------------\n",
    "# 資料清理與前置處理\n",
    "# -----------------------------------------------------------------------------\n",
    "\n",
    "# 將日期欄位轉換為日期時間格式\n",
    "df_sales['週'] = pd.to_datetime(df_sales['週'])\n",
    "df_trends['date'] = pd.to_datetime(df_trends['date'])\n",
    "df_dts['country'] = df_dts['country'].str.strip()\n",
    "\n",
    "# 處理 df_products 的 race_location 欄位，提取城市/國家名稱\n",
    "def clean_location(location):\n",
    "    match = re.match(r'(.+?)\\s?\\(', location)\n",
    "    if match:\n",
    "        return match.group(1).strip()\n",
    "    return location\n",
    "\n",
    "df_products['race_location_cleaned'] = df_products['race_location'].apply(clean_location)\n",
    "\n",
    "# -----------------------------------------------------------------------------\n",
    "# 資料合併\n",
    "# -----------------------------------------------------------------------------\n",
    "\n",
    "# -----------------------------------------------------------------------------\n",
    "# 3. 資料合併 (最終修正版本)\n",
    "# -----------------------------------------------------------------------------\n",
    "\n",
    "# 1) 彙總產品和評論數據\n",
    "df_products_agg = df_products.groupby('race_location_cleaned').agg(\n",
    "    產品數量=('product_count', 'sum'),\n",
    "    評論數=('review_count', 'sum')\n",
    ").reset_index()\n",
    "\n",
    "# 2) 合併銷售額與 Google 趨勢數據\n",
    "df_trends_f1 = df_trends[df_trends['keyword'] == 'F1'].copy()\n",
    "df_trends_f1.rename(columns={'date': '週', 'trend_score': 'F1_趨勢分數'}, inplace=True)\n",
    "\n",
    "# 關鍵修正：創建年和週數欄位來對齊數據\n",
    "df_sales['年週'] = df_sales['週'].dt.isocalendar().year.astype(str) + '-' + df_sales['週'].dt.isocalendar().week.astype(str)\n",
    "df_trends_f1['年週'] = df_trends_f1['週'].dt.isocalendar().year.astype(str) + '-' + df_trends_f1['週'].dt.isocalendar().week.astype(str)\n",
    "\n",
    "df_merged = pd.merge(df_sales, df_trends_f1[['年週', 'F1_趨勢分數']], on='年週', how='left')\n",
    "\n",
    "# 3) 合併產品數據\n",
    "city_name_mapping = {\n",
    "    'Baku': 'Baku', 'Singapore': 'Singapore', 'Suzuka': 'Japan',\n",
    "    'Shanghai': 'China', 'Las Vegas': 'America', 'Miami': 'America'\n",
    "}\n",
    "df_merged['city_for_merge'] = df_merged['城市'].map(city_name_mapping).fillna(df_merged['城市'])\n",
    "df_merged = pd.merge(df_merged, df_products_agg, left_on='city_for_merge', right_on='race_location_cleaned', how='left')\n",
    "df_merged.drop(columns=['city_for_merge', 'race_location_cleaned', '年週'], inplace=True)\n",
    "\n",
    "# 4) 填補合併後可能產生的 NaN 值（已使用 .loc 修正）\n",
    "df_merged.loc[:, '產品數量'] = df_merged['產品數量'].fillna(0)\n",
    "df_merged.loc[:, '評論數'] = df_merged['評論數'].fillna(0)\n",
    "df_merged.loc[:, 'F1_趨勢分數'] = df_merged['F1_趨勢分數'].fillna(df_merged['F1_趨勢分數'].mean())\n",
    "\n",
    "print(\"資料合併完成！合併後數據的前五行：\")\n",
    "print(df_merged.head())"
   ]
  },
  {
   "cell_type": "code",
   "execution_count": null,
   "id": "1a4779b2-9828-4ec2-8d5d-afecbf32e6d6",
   "metadata": {},
   "outputs": [],
   "source": [
    "### 3. 核心分析：賽事週與非賽事週銷售額比較 (t-檢定)\n",
    "\n",
    "我們將賽事週的銷售額與非賽事週的銷售額進行比較，以驗證賽事對銷售的影響是否顯著。"
   ]
  },
  {
   "cell_type": "code",
   "execution_count": 19,
   "id": "fb895d0d-ffec-498a-956b-bb895e722c77",
   "metadata": {},
   "outputs": [
    {
     "name": "stdout",
     "output_type": "stream",
     "text": [
      "賽事週與非賽事週銷售額比較 (t-檢定)\n",
      "賽事週平均銷售額: $2167.17\n",
      "非賽事週平均銷售額: $2083.51\n",
      "p-value: 0.6672\n",
      "結論: 賽事週與非賽事週的銷售額沒有顯著差異。\n"
     ]
    }
   ],
   "source": [
    "sales_race_week = df_merged[df_merged['是否比賽週'] == True]['銷售額']\n",
    "sales_non_race_week = df_merged[df_merged['是否比賽週'] == False]['銷售額']\n",
    "\n",
    "t_stat, p_value_ttest = stats.ttest_ind(sales_race_week, sales_non_race_week, equal_var=False, nan_policy='omit')\n",
    "\n",
    "print(\"賽事週與非賽事週銷售額比較 (t-檢定)\")\n",
    "print(f\"賽事週平均銷售額: ${sales_race_week.mean():.2f}\")\n",
    "print(f\"非賽事週平均銷售額: ${sales_non_race_week.mean():.2f}\")\n",
    "print(f\"p-value: {p_value_ttest:.4f}\")\n",
    "\n",
    "if p_value_ttest < 0.05:\n",
    "    print(\"結論: 賽事週的銷售額顯著高於非賽事週。\")\n",
    "else:\n",
    "    print(\"結論: 賽事週與非賽事週的銷售額沒有顯著差異。\")"
   ]
  },
  {
   "cell_type": "code",
   "execution_count": 15,
   "id": "77dab5f5-94fe-4f84-afc7-05aef7ddb771",
   "metadata": {},
   "outputs": [
    {
     "name": "stderr",
     "output_type": "stream",
     "text": [
      "/var/folders/bl/rm3wp47s7yq5_plzrv7r0dnw0000gn/T/ipykernel_91035/3828521292.py:15: FutureWarning: \n",
      "\n",
      "Passing `palette` without assigning `hue` is deprecated and will be removed in v0.14.0. Assign the `x` variable to `hue` and set `legend=False` for the same effect.\n",
      "\n",
      "  sns.barplot(x='是否比賽週', y='銷售額', data=average_sales, palette='viridis')\n"
     ]
    },
    {
     "data": {
      "image/png": "[encoded data removed]",
      "text/plain": [
       "<Figure size 800x600 with 1 Axes>"
      ]
     },
     "metadata": {},
     "output_type": "display_data"
    }
   ],
   "source": [
    "import matplotlib.pyplot as plt\n",
    "import seaborn as sns\n",
    "\n",
    "# 設定圖表風格\n",
    "sns.set_style(\"whitegrid\")\n",
    "plt.rcParams['font.sans-serif'] = ['Arial Unicode MS'] # 確保中文字體能夠顯示，根據您的系統可能需要調整\n",
    "plt.rcParams['axes.unicode_minus'] = False # 解決負號顯示問題\n",
    "\n",
    "# 計算平均銷售額\n",
    "average_sales = df_merged.groupby('是否比賽週')['銷售額'].mean().reset_index()\n",
    "average_sales['是否比賽週'] = average_sales['是否比賽週'].map({True: '比賽週', False: '非比賽週'})\n",
    "\n",
    "# 繪製長條圖\n",
    "plt.figure(figsize=(8, 6))\n",
    "sns.barplot(x='是否比賽週', y='銷售額', data=average_sales, palette='viridis')\n",
    "\n",
    "# 添加標題和標籤\n",
    "plt.title('賽事週與非賽事週的平均銷售額比較', fontsize=16)\n",
    "plt.xlabel('是否為比賽週', fontsize=12)\n",
    "plt.ylabel('平均銷售額', fontsize=12)\n",
    "\n",
    "# 在長條圖上顯示數值\n",
    "for index, row in average_sales.iterrows():\n",
    "    plt.text(index, row['銷售額'] + 50, f'${row[\"銷售額\"]:.2f}', color='black', ha=\"center\", fontsize=11)\n",
    "\n",
    "# 儲存圖表到 output/charts/ 資料夾\n",
    "plt.savefig('/Users/debby/Desktop/0806_Formula 1.png')\n",
    "\n",
    "plt.show()"
   ]
  },
  {
   "cell_type": "code",
   "execution_count": null,
   "id": "d1b15400-cdc1-4c45-92b5-9433bc048594",
   "metadata": {},
   "outputs": [],
   "source": [
    "### 4. 建立多元線性迴歸模型\n",
    "\n",
    "最後，我們建立一個多元線性迴歸模型來量化各變數對銷售額的影響。"
   ]
  },
  {
   "cell_type": "code",
   "execution_count": 20,
   "id": "4ae71d6c-e4b7-4888-a6c8-54aa682182e2",
   "metadata": {},
   "outputs": [
    {
     "name": "stdout",
     "output_type": "stream",
     "text": [
      "多元線性迴歸模型結果\n",
      "                            OLS Regression Results                            \n",
      "==============================================================================\n",
      "Dep. Variable:                    銷售額   R-squared:                       0.042\n",
      "Model:                            OLS   Adj. R-squared:                  0.029\n",
      "Method:                 Least Squares   F-statistic:                     3.187\n",
      "Date:                Wed, 06 Aug 2025   Prob (F-statistic):             0.0139\n",
      "Time:                        16:43:49   Log-Likelihood:                -2183.4\n",
      "No. Observations:                 294   AIC:                             4377.\n",
      "Df Residuals:                     289   BIC:                             4395.\n",
      "Df Model:                           4                                         \n",
      "Covariance Type:            nonrobust                                         \n",
      "==============================================================================\n",
      "                 coef    std err          t      P>|t|      [0.025      0.975]\n",
      "------------------------------------------------------------------------------\n",
      "const       1860.9813     76.498     24.327      0.000    1710.417    2011.546\n",
      "是否比賽週         42.0154    169.537      0.248      0.804    -291.668     375.699\n",
      "F1_趨勢分數        5.7874      1.666      3.474      0.001       2.509       9.066\n",
      "產品數量         -14.6664     27.576     -0.532      0.595     -68.942      39.609\n",
      "評論數            0.0084      0.030      0.280      0.780      -0.051       0.067\n",
      "==============================================================================\n",
      "Omnibus:                       36.174   Durbin-Watson:                   1.736\n",
      "Prob(Omnibus):                  0.000   Jarque-Bera (JB):               58.806\n",
      "Skew:                          -0.734   Prob(JB):                     1.70e-13\n",
      "Kurtosis:                       4.627   Cond. No.                     1.30e+04\n",
      "==============================================================================\n",
      "\n",
      "Notes:\n",
      "[1] Standard Errors assume that the covariance matrix of the errors is correctly specified.\n",
      "[2] The condition number is large, 1.3e+04. This might indicate that there are\n",
      "strong multicollinearity or other numerical problems.\n"
     ]
    }
   ],
   "source": [
    "X = df_merged[['是否比賽週', 'F1_趨勢分數', '產品數量', '評論數']].copy()\n",
    "y = df_merged['銷售額']\n",
    "\n",
    "# 將布林值的 '是否比賽週' 轉換為 0/1\n",
    "X['是否比賽週'] = X['是否比賽週'].astype(int)\n",
    "\n",
    "# 增加截距項\n",
    "X = sm.add_constant(X)\n",
    "\n",
    "# 建立並擬合 OLS 模型\n",
    "model = sm.OLS(y, X, missing='drop').fit()\n",
    "\n",
    "# 輸出模型摘要\n",
    "print(\"多元線性迴歸模型結果\")\n",
    "print(model.summary())"
   ]
  },
  {
   "cell_type": "code",
   "execution_count": null,
   "id": "95094d43-b58d-41fb-bac9-1eea5030e444",
   "metadata": {},
   "outputs": [],
   "source": [
    "import matplotlib.pyplot as plt\n",
    "import seaborn as sns\n",
    "\n",
    "# 設定圖表風格\n",
    "sns.set_style(\"whitegrid\")\n",
    "plt.rcParams['font.sans-serif'] = ['Arial Unicode MS']\n",
    "plt.rcParams['axes.unicode_minus'] = False\n",
    "\n",
    "# 繪製散佈圖\n",
    "plt.figure(figsize=(10, 7))\n",
    "sns.scatterplot(x='F1_趨勢分數', y='銷售額', data=df_merged, hue='是否比賽週', style='是否比賽週', s=100, palette='viridis')\n",
    "\n",
    "# 添加迴歸線，視覺化相關性\n",
    "sns.regplot(x='F1_趨勢分數', y='銷售額', data=df_merged, scatter=False, color='red', line_kws={'linestyle':'--'})\n",
    "\n",
    "# 添加標題和標籤\n",
    "plt.title('F1 趨勢分數與銷售額的關係', fontsize=16)\n",
    "plt.xlabel('F1 Google 趨勢分數', fontsize=12)\n",
    "plt.ylabel('週銷售額', fontsize=12)\n",
    "\n",
    "# 添加圖例\n",
    "plt.legend(title='是否為比賽週')\n",
    "\n",
    "# 儲存圖表到 output/charts/ 資料夾\n",
    "plt.savefig('/Users/debby/Desktop/0806_Formula 1.png')\n",
    "\n",
    "plt.show()"
   ]
  }
 ],
 "metadata": {
  "kernelspec": {
   "display_name": "Python [conda env:base] *",
   "language": "python",
   "name": "conda-base-py"
  },
  "language_info": {
   "codemirror_mode": {
    "name": "ipython",
    "version": 3
   },
   "file_extension": ".py",
   "mimetype": "text/x-python",
   "name": "python",
   "nbconvert_exporter": "python",
   "pygments_lexer": "ipython3",
   "version": "3.13.5"
  }
 },
 "nbformat": 4,
 "nbformat_minor": 5
}
